{
 "cells": [
  {
   "cell_type": "code",
   "execution_count": null,
   "id": "545715cb",
   "metadata": {},
   "outputs": [],
   "source": [
    "#1.使用email.message模組建立內容\n",
    "#2.使用smtplib模組發送信件\n",
    "#3.驗證寄件人身分(帳號密碼或兩階段認證)\n",
    "\n",
    "#準備訊息物件設定\n",
    "#載入模組\n",
    "import email.message\n",
    "#建立訊息物件\n",
    "msg=email.message.EmailMessage()\n",
    "#利用物件建立基本設定\n",
    "\n",
    "from_a=\"markroy8888@gmail.com\"\n",
    "to_b=\"markluo@creation.com.tw\"\n",
    "\n",
    "\n",
    "msg[\"From\"]=from_a\n",
    "msg[\"To\"]=to_b\n",
    "msg[\"Subject\"]=\"你好\"\n",
    "\n",
    "#寄送郵件主要內容\n",
    "#msg.set_content(\"測試郵件純文字內容\") #純文字信件內容\n",
    "msg.add_alternative(\"<h3>HTML內容</h3>安安這是寄送郵件測試 ggyy gyyg\",subtype=\"html\") #HTML信件內容\n",
    "\n",
    "acc=\"markroy8888@gmail.com\"\n",
    "password=\"your code\"\n",
    "#連線到SMTP Sevver\n",
    "import smtplib\n",
    "#可以從網路上找到主機名稱和連線埠\n",
    "server=smtplib.SMTP_SSL(\"smtp.gmail.com\",465) #建立gmail連驗\n",
    "server.login(acc,password)\n",
    "server.send_message(msg)\n",
    "server.close() #發送完成後關閉連線\n",
    "\n"
   ]
  }
 ],
 "metadata": {
  "kernelspec": {
   "display_name": "Python 3 (ipykernel)",
   "language": "python",
   "name": "python3"
  },
  "language_info": {
   "codemirror_mode": {
    "name": "ipython",
    "version": 3
   },
   "file_extension": ".py",
   "mimetype": "text/x-python",
   "name": "python",
   "nbconvert_exporter": "python",
   "pygments_lexer": "ipython3",
   "version": "3.9.7"
  }
 },
 "nbformat": 4,
 "nbformat_minor": 5
}
